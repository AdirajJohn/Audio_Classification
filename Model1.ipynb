{
 "cells": [
  {
   "cell_type": "markdown",
   "metadata": {},
   "source": [
    "#### Audio Classification using Random Forest classifier"
   ]
  },
  {
   "cell_type": "markdown",
   "metadata": {},
   "source": [
    "##### Import the neccessary library"
   ]
  },
  {
   "cell_type": "code",
   "execution_count": 1,
   "metadata": {},
   "outputs": [],
   "source": [
    "import pandas as pd\n",
    "import numpy as np\n",
    "import matplotlib.pyplot as plt\n",
    "import librosa\n",
    "from sklearn.ensemble import RandomForestClassifier\n",
    "from sklearn.metrics import accuracy_score, classification_report\n",
    "from sklearn.model_selection import train_test_split"
   ]
  },
  {
   "cell_type": "markdown",
   "metadata": {},
   "source": [
    "##### Extract the feature from the audio"
   ]
  },
  {
   "cell_type": "code",
   "execution_count": 4,
   "metadata": {},
   "outputs": [],
   "source": [
    "#Load the audio file\n",
    "y,sr=librosa.load('D:/data/classification_data/data/coughs/fsd_1.wav')\n"
   ]
  },
  {
   "cell_type": "code",
   "execution_count": 73,
   "metadata": {},
   "outputs": [],
   "source": [
    "# Extract features (example: MFCCs)\n",
    "mfccs = librosa.feature.mfcc(y=y, sr=sr, n_mfcc=20)\n",
    "spectral_centroid = librosa.feature.spectral_centroid(y=y, sr=sr)\n",
    "zero_crossing_rate = librosa.feature.zero_crossing_rate(y)\n",
    "spectral_rolloff = librosa.feature.spectral_rolloff(y=y, sr=sr)"
   ]
  },
  {
   "cell_type": "code",
   "execution_count": 74,
   "metadata": {},
   "outputs": [
    {
     "name": "stdout",
     "output_type": "stream",
     "text": [
      "[[-170.8301     -53.672573   -21.98235   ... -616.42126   -616.42126\n",
      "  -616.42126  ]\n",
      " [  91.366165    65.35126     64.89467   ...    0.           0.\n",
      "     0.       ]\n",
      " [ -24.218964   -18.114147   -26.62379   ...    0.           0.\n",
      "     0.       ]\n",
      " ...\n",
      " [  -7.152582    -9.677477    -9.815548  ...    0.           0.\n",
      "     0.       ]\n",
      " [   1.750874     1.3466088    5.0019717 ...    0.           0.\n",
      "     0.       ]\n",
      " [ -13.508856    -8.628754    -4.6524906 ...    0.           0.\n",
      "     0.       ]]\n",
      "[[2535.3934934  3015.17805032 2988.13178543 2665.24704576 2713.5003522\n",
      "  2783.53714203 2718.46267942 2629.95313502 2469.22805982 1858.89746726\n",
      "  2035.99047763 2287.41943794 2304.1722508  2158.83880028 2005.54698215\n",
      "  2245.82454662 2556.2955584  2645.83947381 2484.32233095 2437.4468949\n",
      "  2480.67276987 2240.13100716 1785.81232126 2057.98855335 2202.0530778\n",
      "  2221.64012345 2298.02864727 2156.59331274 2010.66251199 2315.16960636\n",
      "  2493.85311945 2485.3866752  2297.20392726 2186.13709517 1946.29325311\n",
      "  1761.19835952 1801.32775281 2291.55506807 2462.37937278 4088.96877587\n",
      "  4939.54843087    0.            0.            0.            0.\n",
      "     0.            0.            0.            0.            0.\n",
      "     0.            0.            0.            0.            0.\n",
      "     0.            0.            0.            0.            0.\n",
      "     0.            0.            0.            0.            0.\n",
      "     0.            0.            0.            0.            0.\n",
      "     0.            0.            0.            0.            0.\n",
      "     0.            0.            0.            0.            0.\n",
      "     0.            0.            0.            0.            0.\n",
      "     0.            0.            0.            0.            0.\n",
      "     0.            0.            0.            0.            0.\n",
      "     0.            0.            0.            0.            0.\n",
      "     0.            0.            0.            0.            0.\n",
      "     0.            0.            0.            0.            0.\n",
      "     0.            0.            0.            0.            0.\n",
      "     0.            0.            0.            0.            0.\n",
      "     0.            0.            0.            0.            0.\n",
      "     0.            0.            0.            0.            0.\n",
      "     0.            0.            0.            0.            0.\n",
      "     0.            0.            0.            0.            0.\n",
      "     0.            0.            0.            0.            0.\n",
      "     0.            0.            0.            0.            0.\n",
      "     0.            0.            0.            0.            0.\n",
      "     0.            0.            0.            0.            0.\n",
      "     0.            0.            0.            0.            0.\n",
      "     0.            0.            0.            0.            0.\n",
      "     0.            0.            0.            0.            0.\n",
      "     0.            0.            0.            0.            0.\n",
      "     0.            0.            0.            0.            0.\n",
      "     0.            0.            0.            0.            0.\n",
      "     0.            0.            0.            0.            0.\n",
      "     0.            0.            0.            0.            0.\n",
      "     0.            0.            0.            0.            0.\n",
      "     0.            0.            0.            0.            0.\n",
      "     0.            0.            0.            0.            0.\n",
      "     0.        ]]\n",
      "[[0.08496094 0.13037109 0.171875   0.19238281 0.17919922 0.1796875\n",
      "  0.17724609 0.16845703 0.14550781 0.13818359 0.15039062 0.15625\n",
      "  0.16943359 0.17382812 0.15673828 0.15332031 0.14794922 0.15673828\n",
      "  0.17871094 0.18505859 0.18945312 0.16210938 0.14892578 0.14697266\n",
      "  0.15527344 0.17529297 0.17382812 0.17041016 0.16748047 0.15869141\n",
      "  0.16845703 0.17382812 0.16748047 0.15722656 0.12451172 0.10595703\n",
      "  0.203125   0.17724609 0.15966797 0.13183594 0.         0.\n",
      "  0.         0.         0.         0.         0.         0.\n",
      "  0.         0.         0.         0.         0.         0.\n",
      "  0.         0.         0.         0.         0.         0.\n",
      "  0.         0.         0.         0.         0.         0.\n",
      "  0.         0.         0.         0.         0.         0.\n",
      "  0.         0.         0.         0.         0.         0.\n",
      "  0.         0.         0.         0.         0.         0.\n",
      "  0.         0.         0.         0.         0.         0.\n",
      "  0.         0.         0.         0.         0.         0.\n",
      "  0.         0.         0.         0.         0.         0.\n",
      "  0.         0.         0.         0.         0.         0.\n",
      "  0.         0.         0.         0.         0.         0.\n",
      "  0.         0.         0.         0.         0.         0.\n",
      "  0.         0.         0.         0.         0.         0.\n",
      "  0.         0.         0.         0.         0.         0.\n",
      "  0.         0.         0.         0.         0.         0.\n",
      "  0.         0.         0.         0.         0.         0.\n",
      "  0.         0.         0.         0.         0.         0.\n",
      "  0.         0.         0.         0.         0.         0.\n",
      "  0.         0.         0.         0.         0.         0.\n",
      "  0.         0.         0.         0.         0.         0.\n",
      "  0.         0.         0.         0.         0.         0.\n",
      "  0.         0.         0.         0.         0.         0.\n",
      "  0.         0.         0.         0.         0.         0.\n",
      "  0.         0.         0.         0.         0.         0.\n",
      "  0.         0.         0.         0.         0.         0.\n",
      "  0.         0.         0.         0.         0.         0.\n",
      "  0.         0.         0.         0.         0.         0.\n",
      "  0.         0.         0.         0.         0.         0.        ]]\n",
      "[[4026.70898438 4952.63671875 4898.80371094 4392.7734375  4059.00878906\n",
      "  4769.60449219 4543.50585938 4145.14160156 3682.17773438 3359.1796875\n",
      "  3456.07910156 3445.3125     3380.71289062 3176.14746094 3165.38085938\n",
      "  3736.01074219 3875.9765625  3962.109375   3692.94433594 3337.64648438\n",
      "  3499.14550781 3445.3125     3434.54589844 3542.21191406 3563.74511719\n",
      "  3509.91210938 3434.54589844 3348.41308594 3219.21386719 3606.81152344\n",
      "  3671.41113281 3682.17773438 3499.14550781 3240.74707031 3122.31445312\n",
      "  3025.41503906 3348.41308594 5717.06542969 5781.66503906 8150.31738281\n",
      "  9108.54492188    0.            0.            0.            0.\n",
      "     0.            0.            0.            0.            0.\n",
      "     0.            0.            0.            0.            0.\n",
      "     0.            0.            0.            0.            0.\n",
      "     0.            0.            0.            0.            0.\n",
      "     0.            0.            0.            0.            0.\n",
      "     0.            0.            0.            0.            0.\n",
      "     0.            0.            0.            0.            0.\n",
      "     0.            0.            0.            0.            0.\n",
      "     0.            0.            0.            0.            0.\n",
      "     0.            0.            0.            0.            0.\n",
      "     0.            0.            0.            0.            0.\n",
      "     0.            0.            0.            0.            0.\n",
      "     0.            0.            0.            0.            0.\n",
      "     0.            0.            0.            0.            0.\n",
      "     0.            0.            0.            0.            0.\n",
      "     0.            0.            0.            0.            0.\n",
      "     0.            0.            0.            0.            0.\n",
      "     0.            0.            0.            0.            0.\n",
      "     0.            0.            0.            0.            0.\n",
      "     0.            0.            0.            0.            0.\n",
      "     0.            0.            0.            0.            0.\n",
      "     0.            0.            0.            0.            0.\n",
      "     0.            0.            0.            0.            0.\n",
      "     0.            0.            0.            0.            0.\n",
      "     0.            0.            0.            0.            0.\n",
      "     0.            0.            0.            0.            0.\n",
      "     0.            0.            0.            0.            0.\n",
      "     0.            0.            0.            0.            0.\n",
      "     0.            0.            0.            0.            0.\n",
      "     0.            0.            0.            0.            0.\n",
      "     0.            0.            0.            0.            0.\n",
      "     0.            0.            0.            0.            0.\n",
      "     0.            0.            0.            0.            0.\n",
      "     0.            0.            0.            0.            0.\n",
      "     0.        ]]\n"
     ]
    }
   ],
   "source": [
    "print(mfccs)\n",
    "print(spectral_centroid)\n",
    "print(zero_crossing_rate)\n",
    "print(spectral_rolloff)"
   ]
  },
  {
   "cell_type": "code",
   "execution_count": 25,
   "metadata": {},
   "outputs": [
    {
     "name": "stdout",
     "output_type": "stream",
     "text": [
      "[-3.9349091e+02  7.2570999e+01 -3.3433777e+01 -1.2432911e+01\n",
      " -2.0518051e-01 -5.0835176e+00 -1.4647078e+01 -1.4333396e+00\n",
      " -1.4500382e+01 -4.2926354e+00 -1.7296280e+01 -9.2658768e+00\n",
      " -3.9231362e+00 -3.5928541e-01 -1.0223149e+01 -6.0701241e+00\n",
      " -4.4255105e-01 -1.7500715e+00 -6.4876981e+00 -3.3872294e+00]\n",
      "0.22471310314119172\n",
      "2949.92275786351\n"
     ]
    }
   ],
   "source": [
    "# Concatenate features into a single feature vector\n",
    "#features = np.column_stack([mfccs.mean(axis=1), spectral_centroid.mean(), zero_crossing_rate.mean()])\n",
    "#print(features)\n",
    "print((np.mean(mfccs, axis=1)))\n",
    "print(zero_crossing_rate.mean())\n",
    "print(spectral_centroid.mean())\n"
   ]
  },
  {
   "cell_type": "markdown",
   "metadata": {},
   "source": [
    "#### Save the extracted feature results values in the lists"
   ]
  },
  {
   "cell_type": "code",
   "execution_count": 84,
   "metadata": {},
   "outputs": [],
   "source": [
    "#1. Zero Crossing\n",
    "#2. Spectral centroid\n",
    "zc=[]\n",
    "sc=[]\n",
    "#3. Spectral Rolloff\n",
    "sro=[]\n",
    "#4. RMS Energy\n",
    "rms=[]\n",
    "label=[]"
   ]
  },
  {
   "cell_type": "code",
   "execution_count": 88,
   "metadata": {},
   "outputs": [],
   "source": [
    "#cough- esc 1 to 40 and fsd- 1 to 256\n",
    "#not_cough- esc 1 to 1960 and fsd 1 to 10000 \n",
    "for i in range(1,41):\n",
    "    filename=f\"esc_{i}\"\n",
    "    #filename=f\"fsd_{i}\"\n",
    "    # Load audio file and generate spectrogram\n",
    "    y, sr = librosa.load('D:/data/classification_data/data/not_coughs/'+filename+\".wav\")\n",
    "\n",
    "    #extract the feature\n",
    "    spectral_centroid = (librosa.feature.spectral_centroid(y=y, sr=sr)).mean()\n",
    "    zero_crossing_rate = (librosa.feature.zero_crossing_rate(y)).mean()\n",
    "    spectral_rolloff = (librosa.feature.spectral_rolloff(y=y, sr=sr)).mean()\n",
    "    rms_energy = (librosa.feature.rms(y=y)).mean()\n",
    "    flag=0\n",
    "\n",
    "    #Append the result\n",
    "    sc.append(spectral_centroid)\n",
    "    zc.append(zero_crossing_rate)\n",
    "    rms.append(rms_energy)\n",
    "    label.append(flag)\n",
    "    sro.append(spectral_rolloff)\n"
   ]
  },
  {
   "cell_type": "code",
   "execution_count": 95,
   "metadata": {},
   "outputs": [
    {
     "name": "stdout",
     "output_type": "stream",
     "text": [
      "     Zero_crossing  spectral_centriod  rms_energy  spectral_rolloff\n",
      "0         0.239566        3163.854637    0.013364       5438.830020\n",
      "1         0.039940        1218.510479    0.089246       2317.504938\n",
      "2         0.069901        1992.682774    0.001401       4844.970703\n",
      "3         0.095063        1749.604550    0.125050       3089.655762\n",
      "4         0.194981        3292.252282    0.003525       5826.104577\n",
      "..             ...                ...         ...               ...\n",
      "587       0.352537        3460.821032    0.126654       4815.312703\n",
      "588       0.066558        2645.862854    0.009184       4825.431315\n",
      "589       0.016816         753.409721    0.153553       1367.956543\n",
      "590       0.766382        6458.978217    0.060817       9658.389282\n",
      "591       0.191836        3074.087776    0.008508       6519.027710\n",
      "\n",
      "[592 rows x 4 columns]\n",
      "[0, 0, 0, 0, 0, 0, 0, 0, 0, 0, 0, 0, 0, 0, 0, 0, 0, 0, 0, 0, 0, 0, 0, 0, 0, 0, 0, 0, 0, 0, 0, 0, 0, 0, 0, 0, 0, 0, 0, 0, 0, 0, 0, 0, 0, 0, 0, 0, 0, 0, 0, 0, 0, 0, 0, 0, 0, 0, 0, 0, 0, 0, 0, 0, 0, 0, 0, 0, 0, 0, 0, 0, 0, 0, 0, 0, 0, 0, 0, 0, 0, 0, 0, 0, 0, 0, 0, 0, 0, 0, 0, 0, 0, 0, 0, 0, 0, 0, 0, 0, 0, 0, 0, 0, 0, 0, 0, 0, 0, 0, 0, 0, 0, 0, 0, 0, 0, 0, 0, 0, 0, 0, 0, 0, 0, 0, 0, 0, 0, 0, 0, 0, 0, 0, 0, 0, 0, 0, 0, 0, 0, 0, 0, 0, 0, 0, 0, 0, 0, 0, 0, 0, 0, 0, 0, 0, 0, 0, 0, 0, 0, 0, 0, 0, 0, 0, 0, 0, 0, 0, 0, 0, 0, 0, 0, 0, 0, 0, 0, 0, 0, 0, 0, 0, 0, 0, 0, 0, 0, 0, 0, 0, 0, 0, 0, 0, 0, 0, 0, 0, 0, 0, 0, 0, 0, 0, 0, 0, 0, 0, 0, 0, 0, 0, 0, 0, 0, 0, 0, 0, 0, 0, 0, 0, 0, 0, 0, 0, 0, 0, 0, 0, 0, 0, 0, 0, 0, 0, 0, 0, 0, 0, 0, 0, 0, 0, 0, 0, 0, 0, 0, 0, 0, 0, 0, 0, 1, 1, 1, 1, 1, 1, 1, 1, 1, 1, 1, 1, 1, 1, 1, 1, 1, 1, 1, 1, 1, 1, 1, 1, 1, 1, 1, 1, 1, 1, 1, 1, 1, 1, 1, 1, 1, 1, 1, 1, 1, 1, 1, 1, 1, 1, 1, 1, 1, 1, 1, 1, 1, 1, 1, 1, 1, 1, 1, 1, 1, 1, 1, 1, 1, 1, 1, 1, 1, 1, 1, 1, 1, 1, 1, 1, 1, 1, 1, 1, 1, 1, 1, 1, 1, 1, 1, 1, 1, 1, 1, 1, 1, 1, 1, 1, 1, 1, 1, 1, 1, 1, 1, 1, 1, 1, 1, 1, 1, 1, 1, 1, 1, 1, 1, 1, 1, 1, 1, 1, 1, 1, 1, 1, 1, 1, 1, 1, 1, 1, 1, 1, 1, 1, 1, 1, 1, 1, 1, 1, 1, 1, 1, 1, 1, 1, 1, 1, 1, 1, 1, 1, 1, 1, 1, 1, 1, 1, 1, 1, 1, 1, 1, 1, 1, 1, 1, 1, 1, 1, 1, 1, 1, 1, 1, 1, 1, 1, 1, 1, 1, 1, 1, 1, 1, 1, 1, 1, 1, 1, 1, 1, 1, 1, 1, 1, 1, 1, 1, 1, 1, 1, 1, 1, 1, 1, 1, 1, 1, 1, 1, 1, 1, 1, 1, 1, 1, 1, 1, 1, 1, 1, 1, 1, 1, 1, 1, 1, 1, 1, 1, 1, 1, 1, 1, 1, 1, 1, 1, 1, 1, 1, 1, 1, 1, 1, 1, 1, 1, 1, 1, 1, 1, 1, 1, 1, 1, 1, 1, 1, 1, 1, 1, 1, 1, 1, 1, 1, 1, 1, 1, 1, 1, 1, 1, 1, 1, 1, 1, 1, 1, 1, 1, 1, 1, 1, 1, 1, 1, 1, 1, 1, 1, 1, 1, 1, 0, 0, 0, 0, 0, 0, 0, 0, 0, 0, 0, 0, 0, 0, 0, 0, 0, 0, 0, 0, 0, 0, 0, 0, 0, 0, 0, 0, 0, 0, 0, 0, 0, 0, 0, 0, 0, 0, 0, 0]\n"
     ]
    }
   ],
   "source": [
    "#Create a dataframe\n",
    "x = pd.DataFrame({'Zero_crossing': zc, 'spectral_centriod': sc,'rms_energy': rms,'spectral_rolloff': sro})\n",
    "print(x)\n",
    "print(label)"
   ]
  },
  {
   "cell_type": "markdown",
   "metadata": {},
   "source": [
    "##### Normalization of the features"
   ]
  },
  {
   "cell_type": "code",
   "execution_count": 96,
   "metadata": {},
   "outputs": [
    {
     "name": "stdout",
     "output_type": "stream",
     "text": [
      "     Zero_crossing  spectral_centriod  rms_energy  spectral_rolloff\n",
      "0         0.978392           0.606538   -0.691136          0.346692\n",
      "1        -0.889965          -1.008641    0.617948         -1.125500\n",
      "2        -0.609550          -0.365862   -0.897510          0.066595\n",
      "3        -0.374054          -0.567685    1.235615         -0.761311\n",
      "4         0.561114           0.713144   -0.860871          0.529353\n",
      "..             ...                ...         ...               ...\n",
      "587       2.035727           0.853103    1.263288          0.052606\n",
      "588      -0.640844           0.176460   -0.763243          0.057379\n",
      "589      -1.106390          -1.394805    1.727328         -1.573361\n",
      "590       5.909041           3.342411    0.127499          2.336874\n",
      "591       0.531674           0.532006   -0.774897          0.856174\n",
      "\n",
      "[592 rows x 4 columns]\n"
     ]
    }
   ],
   "source": [
    "from sklearn.preprocessing import StandardScaler\n",
    "# Initialize StandardScaler\n",
    "scaler = StandardScaler()\n",
    "x_scale = scaler.fit_transform(x)\n",
    "x_scaled_df = pd.DataFrame(x_scale, columns=x.columns)\n",
    "print(x_scaled_df)\n"
   ]
  },
  {
   "cell_type": "code",
   "execution_count": 98,
   "metadata": {},
   "outputs": [
    {
     "name": "stdout",
     "output_type": "stream",
     "text": [
      "training_accuracy: 1.0\n",
      "Accuracy: 0.7142857142857143\n",
      "Classification Report:\n",
      "               precision    recall  f1-score   support\n",
      "\n",
      "           0       0.73      0.73      0.73        63\n",
      "           1       0.70      0.70      0.70        56\n",
      "\n",
      "    accuracy                           0.71       119\n",
      "   macro avg       0.71      0.71      0.71       119\n",
      "weighted avg       0.71      0.71      0.71       119\n",
      "\n"
     ]
    }
   ],
   "source": [
    "# Split data into training and testing sets\n",
    "X_train, X_test, y_train, y_test = train_test_split(x_scaled_df, label, test_size=0.2, random_state=42)\n",
    "\n",
    "# Train Random Forest classifier\n",
    "clf = RandomForestClassifier(n_estimators=100, random_state=42)\n",
    "clf.fit(X_train, y_train)\n",
    "\n",
    "# Predict on test data\n",
    "y_pred = clf.predict(X_test)\n",
    "\n",
    "# Evaluate classifier performance\n",
    "accuracy = accuracy_score(y_test, y_pred)\n",
    "report = classification_report(y_test, y_pred)\n",
    "training_accuracy=clf.score(X_train,y_train)\n",
    "\n",
    "print(\"training_accuracy:\",training_accuracy)\n",
    "print(\"Accuracy1:\", accuracy)\n",
    "print(\"Classification Report:\\n\", report)"
   ]
  },
  {
   "cell_type": "code",
   "execution_count": null,
   "metadata": {},
   "outputs": [],
   "source": []
  }
 ],
 "metadata": {
  "kernelspec": {
   "display_name": "Python 3",
   "language": "python",
   "name": "python3"
  },
  "language_info": {
   "codemirror_mode": {
    "name": "ipython",
    "version": 3
   },
   "file_extension": ".py",
   "mimetype": "text/x-python",
   "name": "python",
   "nbconvert_exporter": "python",
   "pygments_lexer": "ipython3",
   "version": "3.11.2"
  }
 },
 "nbformat": 4,
 "nbformat_minor": 2
}
